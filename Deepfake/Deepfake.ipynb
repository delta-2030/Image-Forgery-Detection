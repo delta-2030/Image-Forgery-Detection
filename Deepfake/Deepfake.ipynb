{
 "cells": [
  {
   "cell_type": "code",
   "execution_count": null,
   "metadata": {},
   "outputs": [],
   "source": [
    "import cv2\n",
    "import numpy as np\n",
    "\n",
    "# Function to preprocess video frames\n",
    "def preprocess_video(video_path, resize_dim=(640, 480), normalize=True):\n",
    "    cap = cv2.VideoCapture(video_path)  # Open the video file\n",
    "    \n",
    "    if not cap.isOpened():\n",
    "        print(\"Error: Could not open video.\")\n",
    "        return None\n",
    "    \n",
    "    frames = []\n",
    "    \n",
    "    while cap.isOpened():\n",
    "        ret, frame = cap.read()\n",
    "        if not ret:\n",
    "            break\n",
    "        \n",
    "        # Resize the frame to the desired dimensions\n",
    "        frame_resized = cv2.resize(frame, resize_dim)\n",
    "        \n",
    "        # Convert the frame to grayscale (optional, depending on the analysis you want to perform)\n",
    "        frame_gray = cv2.cvtColor(frame_resized, cv2.COLOR_BGR2GRAY)\n",
    "        \n",
    "        # Normalize the pixel values (optional)\n",
    "        if normalize:\n",
    "            frame_normalized = frame_gray / 255.0\n",
    "        else:\n",
    "            frame_normalized = frame_gray\n",
    "        \n",
    "        frames.append(frame_normalized)\n",
    "    \n",
    "    cap.release()  # Release the video capture object\n",
    "    \n",
    "    return frames\n",
    "\n",
    "# Example usage\n",
    "video_path = 'download.mp4'  # Path to the video file\n",
    "preprocessed_frames = preprocess_video(video_path, resize_dim=(640, 480), normalize=True)\n",
    "\n",
    "# Display the first frame to check if the preprocessing worked correctly\n",
    "if preprocessed_frames:\n",
    "    first_frame = (preprocessed_frames[0] * 255).astype(np.uint8)  # Convert back to uint8 for display\n",
    "    cv2.imshow('First Preprocessed Frame', first_frame)\n",
    "    cv2.waitKey(0)\n",
    "    cv2.destroyAllWindows()\n"
   ]
  },
  {
   "cell_type": "code",
   "execution_count": null,
   "metadata": {},
   "outputs": [],
   "source": []
  }
 ],
 "metadata": {
  "kernelspec": {
   "display_name": "Python 3",
   "language": "python",
   "name": "python3"
  },
  "language_info": {
   "codemirror_mode": {
    "name": "ipython",
    "version": 3
   },
   "file_extension": ".py",
   "mimetype": "text/x-python",
   "name": "python",
   "nbconvert_exporter": "python",
   "pygments_lexer": "ipython3",
   "version": "3.11.8"
  }
 },
 "nbformat": 4,
 "nbformat_minor": 2
}
